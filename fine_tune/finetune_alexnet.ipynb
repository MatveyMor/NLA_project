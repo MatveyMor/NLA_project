{
 "cells": [
  {
   "cell_type": "code",
   "execution_count": 1,
   "metadata": {},
   "outputs": [
    {
     "name": "stdout",
     "output_type": "stream",
     "text": [
      "Sat Dec 19 16:30:01 2020       \n",
      "+-----------------------------------------------------------------------------+\n",
      "| NVIDIA-SMI 440.64       Driver Version: 440.64       CUDA Version: 10.2     |\n",
      "|-------------------------------+----------------------+----------------------+\n",
      "| GPU  Name        Persistence-M| Bus-Id        Disp.A | Volatile Uncorr. ECC |\n",
      "| Fan  Temp  Perf  Pwr:Usage/Cap|         Memory-Usage | GPU-Util  Compute M. |\n",
      "|===============================+======================+======================|\n",
      "|   0  TITAN RTX           Off  | 00000000:03:00.0 Off |                  N/A |\n",
      "| 41%   40C    P5    66W / 280W |     29MiB / 24219MiB |      3%      Default |\n",
      "+-------------------------------+----------------------+----------------------+\n",
      "|   1  TITAN RTX           Off  | 00000000:04:00.0 Off |                  N/A |\n",
      "| 41%   35C    P8     4W / 280W |    857MiB / 24220MiB |      0%      Default |\n",
      "+-------------------------------+----------------------+----------------------+\n",
      "|   2  TITAN RTX           Off  | 00000000:82:00.0 Off |                  N/A |\n",
      "| 58%   68C    P8    13W / 280W |   1455MiB / 24220MiB |      3%      Default |\n",
      "+-------------------------------+----------------------+----------------------+\n",
      "|   3  TITAN RTX           Off  | 00000000:83:00.0 Off |                  N/A |\n",
      "| 41%   57C    P2    81W / 280W |   9458MiB / 24220MiB |     38%      Default |\n",
      "+-------------------------------+----------------------+----------------------+\n",
      "                                                                               \n",
      "+-----------------------------------------------------------------------------+\n",
      "| Processes:                                                       GPU Memory |\n",
      "|  GPU       PID   Type   Process name                             Usage      |\n",
      "|=============================================================================|\n",
      "+-----------------------------------------------------------------------------+\n"
     ]
    }
   ],
   "source": [
    "!nvidia-smi"
   ]
  },
  {
   "cell_type": "code",
   "execution_count": 2,
   "metadata": {},
   "outputs": [],
   "source": [
    "import torch\n",
    "import random\n",
    "import numpy as np\n",
    "import matplotlib.pyplot as plt\n",
    "import torchvision.datasets\n",
    "from torchvision import transforms\n",
    "from time import time"
   ]
  },
  {
   "cell_type": "code",
   "execution_count": 3,
   "metadata": {},
   "outputs": [],
   "source": [
    "random.seed(0)\n",
    "np.random.seed(0)\n",
    "torch.manual_seed(0)\n",
    "torch.cuda.manual_seed(0)\n",
    "torch.backends.cudnn.deterministic = True"
   ]
  },
  {
   "cell_type": "code",
   "execution_count": 4,
   "metadata": {},
   "outputs": [
    {
     "name": "stdout",
     "output_type": "stream",
     "text": [
      "Files already downloaded and verified\n",
      "Files already downloaded and verified\n"
     ]
    }
   ],
   "source": [
    "#также будем использовать аугментацию: рандомные повороты на 7 градусов и отражение относительно вертикали.\n",
    "\n",
    "#преобразование трейна\n",
    "train_tf = transforms.Compose([\n",
    "    transforms.RandomHorizontalFlip(),\n",
    "    transforms.RandomRotation(7),\n",
    "    transforms.ToTensor()\n",
    "])\n",
    "\n",
    "#тест не меняем\n",
    "test_tf = transforms.Compose([\n",
    "    transforms.ToTensor()\n",
    "])\n",
    "\n",
    "train = torchvision.datasets.CIFAR10('../', download=True, train=True, transform=train_tf)\n",
    "test = torchvision.datasets.CIFAR10('../', download=True, train=False, transform=test_tf)"
   ]
  },
  {
   "cell_type": "code",
   "execution_count": 5,
   "metadata": {},
   "outputs": [
    {
     "name": "stdout",
     "output_type": "stream",
     "text": [
      "cuda:2\n"
     ]
    }
   ],
   "source": [
    "device = torch.device('cuda:2' if torch.cuda.is_available() else 'cpu')\n",
    "print(device)"
   ]
  },
  {
   "cell_type": "code",
   "execution_count": 6,
   "metadata": {},
   "outputs": [],
   "source": [
    "# data loader\n",
    "trainloader = torch.utils.data.DataLoader(train, batch_size = 64, shuffle = True)\n",
    "testloader = torch.utils.data.DataLoader(test, batch_size = 256, shuffle = False)"
   ]
  },
  {
   "cell_type": "code",
   "execution_count": 7,
   "metadata": {},
   "outputs": [
    {
     "data": {
      "text/plain": [
       "AlexNet(\n",
       "  (features): Sequential(\n",
       "    (0): Conv2d(3, 64, kernel_size=(5, 5), stride=(1, 1), padding=(2, 2))\n",
       "    (1): ReLU(inplace=True)\n",
       "    (2): MaxPool2d(kernel_size=3, stride=2, padding=0, dilation=1, ceil_mode=False)\n",
       "    (3): Sequential(\n",
       "      (0): Conv2d(64, 46, kernel_size=(1, 1), stride=(1, 1), bias=False)\n",
       "      (1): Conv2d(46, 61, kernel_size=(5, 5), stride=(1, 1), padding=(2, 2), bias=False)\n",
       "      (2): Conv2d(61, 192, kernel_size=(1, 1), stride=(1, 1))\n",
       "    )\n",
       "    (4): ReLU(inplace=True)\n",
       "    (5): MaxPool2d(kernel_size=3, stride=2, padding=0, dilation=1, ceil_mode=False)\n",
       "    (6): Sequential(\n",
       "      (0): Conv2d(192, 61, kernel_size=(1, 1), stride=(1, 1), bias=False)\n",
       "      (1): Conv2d(61, 66, kernel_size=(3, 3), stride=(1, 1), padding=(1, 1), bias=False)\n",
       "      (2): Conv2d(66, 384, kernel_size=(1, 1), stride=(1, 1))\n",
       "    )\n",
       "    (7): ReLU(inplace=True)\n",
       "    (8): Sequential(\n",
       "      (0): Conv2d(384, 58, kernel_size=(1, 1), stride=(1, 1), bias=False)\n",
       "      (1): Conv2d(58, 52, kernel_size=(3, 3), stride=(1, 1), padding=(1, 1), bias=False)\n",
       "      (2): Conv2d(52, 256, kernel_size=(1, 1), stride=(1, 1))\n",
       "    )\n",
       "    (9): ReLU(inplace=True)\n",
       "    (10): Sequential(\n",
       "      (0): Conv2d(256, 39, kernel_size=(1, 1), stride=(1, 1), bias=False)\n",
       "      (1): Conv2d(39, 39, kernel_size=(3, 3), stride=(1, 1), padding=(1, 1), bias=False)\n",
       "      (2): Conv2d(39, 256, kernel_size=(1, 1), stride=(1, 1))\n",
       "    )\n",
       "    (11): ReLU(inplace=True)\n",
       "    (12): MaxPool2d(kernel_size=3, stride=2, padding=0, dilation=1, ceil_mode=False)\n",
       "  )\n",
       "  (avgpool): AdaptiveAvgPool2d(output_size=(6, 6))\n",
       "  (classifier): Sequential(\n",
       "    (0): Dropout(p=0.5, inplace=False)\n",
       "    (1): Linear(in_features=9216, out_features=4096, bias=True)\n",
       "    (2): ReLU(inplace=True)\n",
       "    (3): Dropout(p=0.5, inplace=False)\n",
       "    (4): Linear(in_features=4096, out_features=4096, bias=True)\n",
       "    (5): ReLU(inplace=True)\n",
       "    (6): Linear(in_features=4096, out_features=10, bias=True)\n",
       "  )\n",
       ")"
      ]
     },
     "execution_count": 7,
     "metadata": {},
     "output_type": "execute_result"
    }
   ],
   "source": [
    "import torchvision.models as models\n",
    "model = torch.load('../compression/CIFAR10_alexnet_compressed.pth')\n",
    "model.eval()"
   ]
  },
  {
   "cell_type": "code",
   "execution_count": 8,
   "metadata": {},
   "outputs": [
    {
     "data": {
      "text/plain": [
       "AlexNet(\n",
       "  (features): Sequential(\n",
       "    (0): Conv2d(3, 64, kernel_size=(5, 5), stride=(1, 1), padding=(2, 2))\n",
       "    (1): ReLU(inplace=True)\n",
       "    (2): MaxPool2d(kernel_size=3, stride=2, padding=0, dilation=1, ceil_mode=False)\n",
       "    (3): Sequential(\n",
       "      (0): Conv2d(64, 46, kernel_size=(1, 1), stride=(1, 1), bias=False)\n",
       "      (1): Conv2d(46, 61, kernel_size=(5, 5), stride=(1, 1), padding=(2, 2), bias=False)\n",
       "      (2): Conv2d(61, 192, kernel_size=(1, 1), stride=(1, 1))\n",
       "    )\n",
       "    (4): ReLU(inplace=True)\n",
       "    (5): MaxPool2d(kernel_size=3, stride=2, padding=0, dilation=1, ceil_mode=False)\n",
       "    (6): Sequential(\n",
       "      (0): Conv2d(192, 61, kernel_size=(1, 1), stride=(1, 1), bias=False)\n",
       "      (1): Conv2d(61, 66, kernel_size=(3, 3), stride=(1, 1), padding=(1, 1), bias=False)\n",
       "      (2): Conv2d(66, 384, kernel_size=(1, 1), stride=(1, 1))\n",
       "    )\n",
       "    (7): ReLU(inplace=True)\n",
       "    (8): Sequential(\n",
       "      (0): Conv2d(384, 58, kernel_size=(1, 1), stride=(1, 1), bias=False)\n",
       "      (1): Conv2d(58, 52, kernel_size=(3, 3), stride=(1, 1), padding=(1, 1), bias=False)\n",
       "      (2): Conv2d(52, 256, kernel_size=(1, 1), stride=(1, 1))\n",
       "    )\n",
       "    (9): ReLU(inplace=True)\n",
       "    (10): Sequential(\n",
       "      (0): Conv2d(256, 39, kernel_size=(1, 1), stride=(1, 1), bias=False)\n",
       "      (1): Conv2d(39, 39, kernel_size=(3, 3), stride=(1, 1), padding=(1, 1), bias=False)\n",
       "      (2): Conv2d(39, 256, kernel_size=(1, 1), stride=(1, 1))\n",
       "    )\n",
       "    (11): ReLU(inplace=True)\n",
       "    (12): MaxPool2d(kernel_size=3, stride=2, padding=0, dilation=1, ceil_mode=False)\n",
       "  )\n",
       "  (avgpool): AdaptiveAvgPool2d(output_size=(6, 6))\n",
       "  (classifier): Sequential(\n",
       "    (0): Dropout(p=0.5, inplace=False)\n",
       "    (1): Linear(in_features=9216, out_features=4096, bias=True)\n",
       "    (2): ReLU(inplace=True)\n",
       "    (3): Dropout(p=0.5, inplace=False)\n",
       "    (4): Linear(in_features=4096, out_features=4096, bias=True)\n",
       "    (5): ReLU(inplace=True)\n",
       "    (6): Linear(in_features=4096, out_features=10, bias=True)\n",
       "  )\n",
       ")"
      ]
     },
     "execution_count": 8,
     "metadata": {},
     "output_type": "execute_result"
    }
   ],
   "source": [
    "model"
   ]
  },
  {
   "cell_type": "code",
   "execution_count": 9,
   "metadata": {},
   "outputs": [],
   "source": [
    "#В качестве лоса возмем кросс-энтропию. Оптимизатор - Адам\n",
    "loss = torch.nn.CrossEntropyLoss()\n",
    "optimizer = torch.optim.Adam(model.parameters(), lr=3e-4)\n",
    "\n",
    "#добавим уменьшение лернинг рейта, если выходим на плато. Это решение будем принимать по валидационной выборке.\n",
    "lr_scheduler = torch.optim.lr_scheduler.ReduceLROnPlateau(optimizer, verbose=True, patience=7, factor=0.2)"
   ]
  },
  {
   "cell_type": "code",
   "execution_count": 10,
   "metadata": {},
   "outputs": [],
   "source": [
    "model = model.to(device)"
   ]
  },
  {
   "cell_type": "code",
   "execution_count": 11,
   "metadata": {},
   "outputs": [
    {
     "data": {
      "text/plain": [
       "AlexNet(\n",
       "  (features): Sequential(\n",
       "    (0): Conv2d(3, 64, kernel_size=(5, 5), stride=(1, 1), padding=(2, 2))\n",
       "    (1): ReLU(inplace=True)\n",
       "    (2): MaxPool2d(kernel_size=3, stride=2, padding=0, dilation=1, ceil_mode=False)\n",
       "    (3): Sequential(\n",
       "      (0): Conv2d(64, 46, kernel_size=(1, 1), stride=(1, 1), bias=False)\n",
       "      (1): Conv2d(46, 61, kernel_size=(5, 5), stride=(1, 1), padding=(2, 2), bias=False)\n",
       "      (2): Conv2d(61, 192, kernel_size=(1, 1), stride=(1, 1))\n",
       "    )\n",
       "    (4): ReLU(inplace=True)\n",
       "    (5): MaxPool2d(kernel_size=3, stride=2, padding=0, dilation=1, ceil_mode=False)\n",
       "    (6): Sequential(\n",
       "      (0): Conv2d(192, 61, kernel_size=(1, 1), stride=(1, 1), bias=False)\n",
       "      (1): Conv2d(61, 66, kernel_size=(3, 3), stride=(1, 1), padding=(1, 1), bias=False)\n",
       "      (2): Conv2d(66, 384, kernel_size=(1, 1), stride=(1, 1))\n",
       "    )\n",
       "    (7): ReLU(inplace=True)\n",
       "    (8): Sequential(\n",
       "      (0): Conv2d(384, 58, kernel_size=(1, 1), stride=(1, 1), bias=False)\n",
       "      (1): Conv2d(58, 52, kernel_size=(3, 3), stride=(1, 1), padding=(1, 1), bias=False)\n",
       "      (2): Conv2d(52, 256, kernel_size=(1, 1), stride=(1, 1))\n",
       "    )\n",
       "    (9): ReLU(inplace=True)\n",
       "    (10): Sequential(\n",
       "      (0): Conv2d(256, 39, kernel_size=(1, 1), stride=(1, 1), bias=False)\n",
       "      (1): Conv2d(39, 39, kernel_size=(3, 3), stride=(1, 1), padding=(1, 1), bias=False)\n",
       "      (2): Conv2d(39, 256, kernel_size=(1, 1), stride=(1, 1))\n",
       "    )\n",
       "    (11): ReLU(inplace=True)\n",
       "    (12): MaxPool2d(kernel_size=3, stride=2, padding=0, dilation=1, ceil_mode=False)\n",
       "  )\n",
       "  (avgpool): AdaptiveAvgPool2d(output_size=(6, 6))\n",
       "  (classifier): Sequential(\n",
       "    (0): Dropout(p=0.5, inplace=False)\n",
       "    (1): Linear(in_features=9216, out_features=4096, bias=True)\n",
       "    (2): ReLU(inplace=True)\n",
       "    (3): Dropout(p=0.5, inplace=False)\n",
       "    (4): Linear(in_features=4096, out_features=4096, bias=True)\n",
       "    (5): ReLU(inplace=True)\n",
       "    (6): Linear(in_features=4096, out_features=10, bias=True)\n",
       "  )\n",
       ")"
      ]
     },
     "execution_count": 11,
     "metadata": {},
     "output_type": "execute_result"
    }
   ],
   "source": [
    "model"
   ]
  },
  {
   "cell_type": "code",
   "execution_count": 12,
   "metadata": {},
   "outputs": [
    {
     "name": "stdout",
     "output_type": "stream",
     "text": [
      "Accuracy on test after compression: 0.571\n"
     ]
    }
   ],
   "source": [
    "test_acc = 0.0\n",
    "len_test = 0.0\n",
    "\n",
    "for _, (inputs, targets) in enumerate(testloader):\n",
    "    inputs, targets = inputs.to(device), targets.to(device)\n",
    "    outputs = model(inputs)\n",
    "    accuracy_add = (outputs.argmax(dim=1) == targets).float().sum().data.cpu()\n",
    "    test_acc += accuracy_add\n",
    "    len_test += len(targets)\n",
    "    \n",
    "test_acc = test_acc / len_test\n",
    "test_acc = np.round(test_acc.numpy(), 4)\n",
    "print('Accuracy on test after compression:', test_acc)"
   ]
  },
  {
   "cell_type": "code",
   "execution_count": 13,
   "metadata": {},
   "outputs": [],
   "source": [
    "def train(epoch):\n",
    "    running_loss = 0.0\n",
    "    train_acc = 0.0\n",
    "    test_acc = 0.0\n",
    "    len_train = 0.0\n",
    "    len_test = 0.0\n",
    "    \n",
    "    loss_train = 0.0\n",
    "  \n",
    "    for batch_idx, (inputs, targets) in enumerate(trainloader):\n",
    "        inputs, targets = inputs.to(device), targets.to(device)\n",
    "        optimizer.zero_grad()\n",
    "        outputs = model(inputs)\n",
    "        loss_val = loss(outputs, targets)\n",
    "        loss_val.backward()\n",
    "        optimizer.step()\n",
    "        accuracy_add = (outputs.argmax(dim=1) == targets).float().sum().data.cpu()\n",
    "        train_acc += accuracy_add\n",
    "        len_train += len(targets)\n",
    "        loss_train += len(targets) * loss_val.item()\n",
    "        running_loss += loss_val.item()\n",
    "        \n",
    "    for _, (inputs, targets) in enumerate(testloader):\n",
    "        inputs, targets = inputs.to(device), targets.to(device)\n",
    "        outputs = model(inputs)\n",
    "        accuracy_add = (outputs.argmax(dim=1) == targets).float().sum().data.cpu()\n",
    "        test_acc += accuracy_add\n",
    "        len_test += len(targets)\n",
    "\n",
    "        \n",
    "    lr_scheduler.step(running_loss)\n",
    "\n",
    "    return train_acc / len_train, test_acc / len_test"
   ]
  },
  {
   "cell_type": "code",
   "execution_count": 14,
   "metadata": {},
   "outputs": [
    {
     "name": "stdout",
     "output_type": "stream",
     "text": [
      "Epoch: 1    acc_train: 0.749    test_acc: 0.7559    time: 31.44976830482483\n",
      "Epoch: 2    acc_train: 0.7924    test_acc: 0.7807    time: 31.68913769721985\n",
      "Epoch: 3    acc_train: 0.8169    test_acc: 0.7918    time: 31.68588948249817\n",
      "Epoch: 4    acc_train: 0.8313    test_acc: 0.7923    time: 31.07012176513672\n",
      "Epoch: 5    acc_train: 0.849    test_acc: 0.7896    time: 30.935332536697388\n",
      "Epoch: 6    acc_train: 0.8601    test_acc: 0.7924    time: 30.983105659484863\n",
      "Epoch: 7    acc_train: 0.8715    test_acc: 0.796    time: 31.223780155181885\n",
      "Epoch: 8    acc_train: 0.8829    test_acc: 0.7919    time: 31.51479196548462\n",
      "Epoch: 9    acc_train: 0.8952    test_acc: 0.8024    time: 31.453061819076538\n",
      "Epoch: 10    acc_train: 0.9041    test_acc: 0.8106    time: 31.44133734703064\n",
      "Epoch: 11    acc_train: 0.9123    test_acc: 0.8056    time: 31.486732006072998\n",
      "Epoch: 12    acc_train: 0.9172    test_acc: 0.8073    time: 31.40681529045105\n",
      "Epoch: 13    acc_train: 0.9266    test_acc: 0.8085    time: 31.43014359474182\n",
      "Epoch: 14    acc_train: 0.9314    test_acc: 0.8091    time: 30.94793963432312\n",
      "Epoch: 15    acc_train: 0.9335    test_acc: 0.8089    time: 30.906505584716797\n"
     ]
    }
   ],
   "source": [
    "accuracy_history_test = []\n",
    "accuracy_history_train = []\n",
    "\n",
    "num_epoch = 15\n",
    "\n",
    "for epoch in range(0, num_epoch):\n",
    "    start_time = time()\n",
    "    train_acc, test_acc = train(epoch)\n",
    "    accuracy_history_test.append(test_acc)\n",
    "    accuracy_history_train.append(train_acc)\n",
    "    acc_train = np.round(train_acc.numpy(), 4)\n",
    "    acc_test = np.round(test_acc.numpy(), 4)\n",
    "    end_time = time()\n",
    "    total_time = end_time - start_time\n",
    "    print('Epoch:', epoch+1, '   acc_train:', acc_train, '   test_acc:', acc_test, '   time:', total_time)"
   ]
  },
  {
   "cell_type": "code",
   "execution_count": 15,
   "metadata": {},
   "outputs": [
    {
     "name": "stderr",
     "output_type": "stream",
     "text": [
      "/usr/local/lib/python3.7/dist-packages/matplotlib/cbook/deprecation.py:107: MatplotlibDeprecationWarning: Passing one of 'on', 'true', 'off', 'false' as a boolean is deprecated; use an actual boolean (True/False) instead.\n",
      "  warnings.warn(message, mplDeprecation, stacklevel=1)\n"
     ]
    },
    {
     "data": {
      "text/plain": [
       "Text(0,0.5,'Accuracy')"
      ]
     },
     "execution_count": 15,
     "metadata": {},
     "output_type": "execute_result"
    },
    {
     "data": {
      "image/png": "[encoded data removed]",
      "text/plain": [
       "<Figure size 1008x360 with 1 Axes>"
      ]
     },
     "metadata": {
      "needs_background": "light"
     },
     "output_type": "display_data"
    }
   ],
   "source": [
    "import matplotlib.pyplot as plt\n",
    "\n",
    "fig, ax = plt.subplots(figsize=[14, 5])\n",
    "plt.plot(accuracy_history_test, label='accucacy on test set')\n",
    "plt.plot(accuracy_history_train, label='accucacy on train set')\n",
    "plt.legend(loc='best')\n",
    "plt.title('Accuracy on train and test set on each epoch')\n",
    "plt.grid('True')\n",
    "plt.xlabel('Epoch')\n",
    "plt.ylabel('Accuracy')"
   ]
  },
  {
   "cell_type": "code",
   "execution_count": 16,
   "metadata": {},
   "outputs": [],
   "source": [
    "model = model.eval()"
   ]
  },
  {
   "cell_type": "code",
   "execution_count": 17,
   "metadata": {},
   "outputs": [],
   "source": [
    "torch.save(model, 'CIFAR10_alexnet_finetuned.pth')"
   ]
  },
  {
   "cell_type": "code",
   "execution_count": 18,
   "metadata": {},
   "outputs": [],
   "source": [
    "def count_parameters(model): \n",
    "    return sum(p.numel() for p in model.parameters() if p.requires_grad)"
   ]
  },
  {
   "cell_type": "code",
   "execution_count": 19,
   "metadata": {},
   "outputs": [
    {
     "name": "stdout",
     "output_type": "stream",
     "text": [
      "Num params in model after compression: 54835547\n"
     ]
    }
   ],
   "source": [
    "print('Num params in model after compression:', count_parameters(model))"
   ]
  },
  {
   "cell_type": "code",
   "execution_count": 20,
   "metadata": {},
   "outputs": [],
   "source": [
    "np.save(\"exps/test_alexnet.npy\", accuracy_history_test)\n",
    "np.save(\"exps/train_alexnet.npy\", accuracy_history_train)"
   ]
  },
  {
   "cell_type": "code",
   "execution_count": null,
   "metadata": {},
   "outputs": [],
   "source": []
  }
 ],
 "metadata": {
  "kernelspec": {
   "display_name": "Python 3",
   "language": "python",
   "name": "python3"
  },
  "language_info": {
   "codemirror_mode": {
    "name": "ipython",
    "version": 3
   },
   "file_extension": ".py",
   "mimetype": "text/x-python",
   "name": "python",
   "nbconvert_exporter": "python",
   "pygments_lexer": "ipython3",
   "version": "3.7.9"
  }
 },
 "nbformat": 4,
 "nbformat_minor": 4
}
