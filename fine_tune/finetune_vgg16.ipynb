{
 "cells": [
  {
   "cell_type": "code",
   "execution_count": 1,
   "metadata": {},
   "outputs": [
    {
     "name": "stdout",
     "output_type": "stream",
     "text": [
      "Sat Dec 19 15:34:24 2020       \r\n",
      "+-----------------------------------------------------------------------------+\r\n",
      "| NVIDIA-SMI 440.64       Driver Version: 440.64       CUDA Version: 10.2     |\r\n",
      "|-------------------------------+----------------------+----------------------+\r\n",
      "| GPU  Name        Persistence-M| Bus-Id        Disp.A | Volatile Uncorr. ECC |\r\n",
      "| Fan  Temp  Perf  Pwr:Usage/Cap|         Memory-Usage | GPU-Util  Compute M. |\r\n",
      "|===============================+======================+======================|\r\n",
      "|   0  TITAN RTX           Off  | 00000000:03:00.0 Off |                  N/A |\r\n",
      "| 65%   82C    P2    89W / 280W |   1328MiB / 24219MiB |     11%      Default |\r\n",
      "+-------------------------------+----------------------+----------------------+\r\n",
      "|   1  TITAN RTX           Off  | 00000000:04:00.0 Off |                  N/A |\r\n",
      "| 41%   50C    P2    77W / 280W |   2202MiB / 24220MiB |     37%      Default |\r\n",
      "+-------------------------------+----------------------+----------------------+\r\n",
      "|   2  TITAN RTX           Off  | 00000000:82:00.0 Off |                  N/A |\r\n",
      "| 49%   72C    P2   165W / 280W |   4134MiB / 24220MiB |     39%      Default |\r\n",
      "+-------------------------------+----------------------+----------------------+\r\n",
      "|   3  TITAN RTX           Off  | 00000000:83:00.0 Off |                  N/A |\r\n",
      "| 41%   48C    P2    78W / 280W |   9110MiB / 24220MiB |     38%      Default |\r\n",
      "+-------------------------------+----------------------+----------------------+\r\n",
      "                                                                               \r\n",
      "+-----------------------------------------------------------------------------+\r\n",
      "| Processes:                                                       GPU Memory |\r\n",
      "|  GPU       PID   Type   Process name                             Usage      |\r\n",
      "|=============================================================================|\r\n",
      "+-----------------------------------------------------------------------------+\r\n"
     ]
    }
   ],
   "source": [
    "!nvidia-smi"
   ]
  },
  {
   "cell_type": "code",
   "execution_count": 2,
   "metadata": {},
   "outputs": [],
   "source": [
    "import torch\n",
    "import random\n",
    "import numpy as np\n",
    "import matplotlib.pyplot as plt\n",
    "import torchvision.datasets\n",
    "from torchvision import transforms\n",
    "from time import time"
   ]
  },
  {
   "cell_type": "code",
   "execution_count": 3,
   "metadata": {},
   "outputs": [],
   "source": [
    "random.seed(0)\n",
    "np.random.seed(0)\n",
    "torch.manual_seed(0)\n",
    "torch.cuda.manual_seed(0)\n",
    "torch.backends.cudnn.deterministic = True"
   ]
  },
  {
   "cell_type": "code",
   "execution_count": 4,
   "metadata": {},
   "outputs": [
    {
     "name": "stdout",
     "output_type": "stream",
     "text": [
      "Files already downloaded and verified\n",
      "Files already downloaded and verified\n"
     ]
    }
   ],
   "source": [
    "#также будем использовать аугментацию: рандомные повороты на 7 градусов и отражение относительно вертикали.\n",
    "\n",
    "#преобразование трейна\n",
    "train_tf = transforms.Compose([\n",
    "    transforms.RandomHorizontalFlip(),\n",
    "    transforms.RandomRotation(7),\n",
    "    transforms.ToTensor()\n",
    "])\n",
    "\n",
    "#тест не меняем\n",
    "test_tf = transforms.Compose([\n",
    "    transforms.ToTensor()\n",
    "])\n",
    "\n",
    "train = torchvision.datasets.CIFAR10('../', download=True, train=True, transform=train_tf)\n",
    "test = torchvision.datasets.CIFAR10('../', download=True, train=False, transform=test_tf)"
   ]
  },
  {
   "cell_type": "code",
   "execution_count": 5,
   "metadata": {},
   "outputs": [
    {
     "name": "stdout",
     "output_type": "stream",
     "text": [
      "cuda:0\n"
     ]
    }
   ],
   "source": [
    "device = torch.device('cuda:0' if torch.cuda.is_available() else 'cpu')\n",
    "print(device)"
   ]
  },
  {
   "cell_type": "code",
   "execution_count": 6,
   "metadata": {},
   "outputs": [],
   "source": [
    "# data loader\n",
    "trainloader = torch.utils.data.DataLoader(train, batch_size = 64, shuffle = True)\n",
    "testloader = torch.utils.data.DataLoader(test, batch_size = 256, shuffle = False)"
   ]
  },
  {
   "cell_type": "code",
   "execution_count": 7,
   "metadata": {},
   "outputs": [
    {
     "data": {
      "text/plain": [
       "VGG(\n",
       "  (features): Sequential(\n",
       "    (0): Conv2d(3, 64, kernel_size=(3, 3), stride=(1, 1), padding=(1, 1))\n",
       "    (1): ReLU(inplace=True)\n",
       "    (2): Sequential(\n",
       "      (0): Conv2d(64, 30, kernel_size=(1, 1), stride=(1, 1), bias=False)\n",
       "      (1): Conv2d(30, 25, kernel_size=(3, 3), stride=(1, 1), padding=(1, 1), bias=False)\n",
       "      (2): Conv2d(25, 64, kernel_size=(1, 1), stride=(1, 1))\n",
       "    )\n",
       "    (3): ReLU(inplace=True)\n",
       "    (4): MaxPool2d(kernel_size=2, stride=2, padding=0, dilation=1, ceil_mode=False)\n",
       "    (5): Sequential(\n",
       "      (0): Conv2d(64, 32, kernel_size=(1, 1), stride=(1, 1), bias=False)\n",
       "      (1): Conv2d(32, 35, kernel_size=(3, 3), stride=(1, 1), padding=(1, 1), bias=False)\n",
       "      (2): Conv2d(35, 128, kernel_size=(1, 1), stride=(1, 1))\n",
       "    )\n",
       "    (6): ReLU(inplace=True)\n",
       "    (7): Sequential(\n",
       "      (0): Conv2d(128, 36, kernel_size=(1, 1), stride=(1, 1), bias=False)\n",
       "      (1): Conv2d(36, 37, kernel_size=(3, 3), stride=(1, 1), padding=(1, 1), bias=False)\n",
       "      (2): Conv2d(37, 128, kernel_size=(1, 1), stride=(1, 1))\n",
       "    )\n",
       "    (8): ReLU(inplace=True)\n",
       "    (9): MaxPool2d(kernel_size=2, stride=2, padding=0, dilation=1, ceil_mode=False)\n",
       "    (10): Sequential(\n",
       "      (0): Conv2d(128, 52, kernel_size=(1, 1), stride=(1, 1), bias=False)\n",
       "      (1): Conv2d(52, 57, kernel_size=(3, 3), stride=(1, 1), padding=(1, 1), bias=False)\n",
       "      (2): Conv2d(57, 256, kernel_size=(1, 1), stride=(1, 1))\n",
       "    )\n",
       "    (11): ReLU(inplace=True)\n",
       "    (12): Sequential(\n",
       "      (0): Conv2d(256, 63, kernel_size=(1, 1), stride=(1, 1), bias=False)\n",
       "      (1): Conv2d(63, 60, kernel_size=(3, 3), stride=(1, 1), padding=(1, 1), bias=False)\n",
       "      (2): Conv2d(60, 256, kernel_size=(1, 1), stride=(1, 1))\n",
       "    )\n",
       "    (13): ReLU(inplace=True)\n",
       "    (14): Sequential(\n",
       "      (0): Conv2d(256, 53, kernel_size=(1, 1), stride=(1, 1), bias=False)\n",
       "      (1): Conv2d(53, 49, kernel_size=(3, 3), stride=(1, 1), padding=(1, 1), bias=False)\n",
       "      (2): Conv2d(49, 256, kernel_size=(1, 1), stride=(1, 1))\n",
       "    )\n",
       "    (15): ReLU(inplace=True)\n",
       "    (16): MaxPool2d(kernel_size=2, stride=2, padding=0, dilation=1, ceil_mode=False)\n",
       "    (17): Sequential(\n",
       "      (0): Conv2d(256, 76, kernel_size=(1, 1), stride=(1, 1), bias=False)\n",
       "      (1): Conv2d(76, 79, kernel_size=(3, 3), stride=(1, 1), padding=(1, 1), bias=False)\n",
       "      (2): Conv2d(79, 512, kernel_size=(1, 1), stride=(1, 1))\n",
       "    )\n",
       "    (18): ReLU(inplace=True)\n",
       "    (19): Sequential(\n",
       "      (0): Conv2d(512, 82, kernel_size=(1, 1), stride=(1, 1), bias=False)\n",
       "      (1): Conv2d(82, 75, kernel_size=(3, 3), stride=(1, 1), padding=(1, 1), bias=False)\n",
       "      (2): Conv2d(75, 512, kernel_size=(1, 1), stride=(1, 1))\n",
       "    )\n",
       "    (20): ReLU(inplace=True)\n",
       "    (21): Sequential(\n",
       "      (0): Conv2d(512, 65, kernel_size=(1, 1), stride=(1, 1), bias=False)\n",
       "      (1): Conv2d(65, 57, kernel_size=(3, 3), stride=(1, 1), padding=(1, 1), bias=False)\n",
       "      (2): Conv2d(57, 512, kernel_size=(1, 1), stride=(1, 1))\n",
       "    )\n",
       "    (22): ReLU(inplace=True)\n",
       "    (23): MaxPool2d(kernel_size=2, stride=2, padding=0, dilation=1, ceil_mode=False)\n",
       "    (24): Sequential(\n",
       "      (0): Conv2d(512, 97, kernel_size=(1, 1), stride=(1, 1), bias=False)\n",
       "      (1): Conv2d(97, 83, kernel_size=(3, 3), stride=(1, 1), padding=(1, 1), bias=False)\n",
       "      (2): Conv2d(83, 512, kernel_size=(1, 1), stride=(1, 1))\n",
       "    )\n",
       "    (25): ReLU(inplace=True)\n",
       "    (26): Sequential(\n",
       "      (0): Conv2d(512, 110, kernel_size=(1, 1), stride=(1, 1), bias=False)\n",
       "      (1): Conv2d(110, 115, kernel_size=(3, 3), stride=(1, 1), padding=(1, 1), bias=False)\n",
       "      (2): Conv2d(115, 512, kernel_size=(1, 1), stride=(1, 1))\n",
       "    )\n",
       "    (27): ReLU(inplace=True)\n",
       "    (28): Sequential(\n",
       "      (0): Conv2d(512, 136, kernel_size=(1, 1), stride=(1, 1), bias=False)\n",
       "      (1): Conv2d(136, 135, kernel_size=(3, 3), stride=(1, 1), padding=(1, 1), bias=False)\n",
       "      (2): Conv2d(135, 512, kernel_size=(1, 1), stride=(1, 1))\n",
       "    )\n",
       "    (29): ReLU(inplace=True)\n",
       "    (30): MaxPool2d(kernel_size=2, stride=2, padding=0, dilation=1, ceil_mode=False)\n",
       "  )\n",
       "  (avgpool): AdaptiveAvgPool2d(output_size=(7, 7))\n",
       "  (classifier): Sequential(\n",
       "    (0): Linear(in_features=25088, out_features=4096, bias=True)\n",
       "    (1): ReLU(inplace=True)\n",
       "    (2): Dropout(p=0.5, inplace=False)\n",
       "    (3): Linear(in_features=4096, out_features=4096, bias=True)\n",
       "    (4): ReLU(inplace=True)\n",
       "    (5): Dropout(p=0.5, inplace=False)\n",
       "    (6): Linear(in_features=4096, out_features=10, bias=True)\n",
       "  )\n",
       ")"
      ]
     },
     "execution_count": 7,
     "metadata": {},
     "output_type": "execute_result"
    }
   ],
   "source": [
    "import torchvision.models as models\n",
    "model = torch.load('../compression/CIFAR10_vgg16_compressed.pth')\n",
    "model.eval()"
   ]
  },
  {
   "cell_type": "code",
   "execution_count": 8,
   "metadata": {},
   "outputs": [
    {
     "data": {
      "text/plain": [
       "VGG(\n",
       "  (features): Sequential(\n",
       "    (0): Conv2d(3, 64, kernel_size=(3, 3), stride=(1, 1), padding=(1, 1))\n",
       "    (1): ReLU(inplace=True)\n",
       "    (2): Sequential(\n",
       "      (0): Conv2d(64, 30, kernel_size=(1, 1), stride=(1, 1), bias=False)\n",
       "      (1): Conv2d(30, 25, kernel_size=(3, 3), stride=(1, 1), padding=(1, 1), bias=False)\n",
       "      (2): Conv2d(25, 64, kernel_size=(1, 1), stride=(1, 1))\n",
       "    )\n",
       "    (3): ReLU(inplace=True)\n",
       "    (4): MaxPool2d(kernel_size=2, stride=2, padding=0, dilation=1, ceil_mode=False)\n",
       "    (5): Sequential(\n",
       "      (0): Conv2d(64, 32, kernel_size=(1, 1), stride=(1, 1), bias=False)\n",
       "      (1): Conv2d(32, 35, kernel_size=(3, 3), stride=(1, 1), padding=(1, 1), bias=False)\n",
       "      (2): Conv2d(35, 128, kernel_size=(1, 1), stride=(1, 1))\n",
       "    )\n",
       "    (6): ReLU(inplace=True)\n",
       "    (7): Sequential(\n",
       "      (0): Conv2d(128, 36, kernel_size=(1, 1), stride=(1, 1), bias=False)\n",
       "      (1): Conv2d(36, 37, kernel_size=(3, 3), stride=(1, 1), padding=(1, 1), bias=False)\n",
       "      (2): Conv2d(37, 128, kernel_size=(1, 1), stride=(1, 1))\n",
       "    )\n",
       "    (8): ReLU(inplace=True)\n",
       "    (9): MaxPool2d(kernel_size=2, stride=2, padding=0, dilation=1, ceil_mode=False)\n",
       "    (10): Sequential(\n",
       "      (0): Conv2d(128, 52, kernel_size=(1, 1), stride=(1, 1), bias=False)\n",
       "      (1): Conv2d(52, 57, kernel_size=(3, 3), stride=(1, 1), padding=(1, 1), bias=False)\n",
       "      (2): Conv2d(57, 256, kernel_size=(1, 1), stride=(1, 1))\n",
       "    )\n",
       "    (11): ReLU(inplace=True)\n",
       "    (12): Sequential(\n",
       "      (0): Conv2d(256, 63, kernel_size=(1, 1), stride=(1, 1), bias=False)\n",
       "      (1): Conv2d(63, 60, kernel_size=(3, 3), stride=(1, 1), padding=(1, 1), bias=False)\n",
       "      (2): Conv2d(60, 256, kernel_size=(1, 1), stride=(1, 1))\n",
       "    )\n",
       "    (13): ReLU(inplace=True)\n",
       "    (14): Sequential(\n",
       "      (0): Conv2d(256, 53, kernel_size=(1, 1), stride=(1, 1), bias=False)\n",
       "      (1): Conv2d(53, 49, kernel_size=(3, 3), stride=(1, 1), padding=(1, 1), bias=False)\n",
       "      (2): Conv2d(49, 256, kernel_size=(1, 1), stride=(1, 1))\n",
       "    )\n",
       "    (15): ReLU(inplace=True)\n",
       "    (16): MaxPool2d(kernel_size=2, stride=2, padding=0, dilation=1, ceil_mode=False)\n",
       "    (17): Sequential(\n",
       "      (0): Conv2d(256, 76, kernel_size=(1, 1), stride=(1, 1), bias=False)\n",
       "      (1): Conv2d(76, 79, kernel_size=(3, 3), stride=(1, 1), padding=(1, 1), bias=False)\n",
       "      (2): Conv2d(79, 512, kernel_size=(1, 1), stride=(1, 1))\n",
       "    )\n",
       "    (18): ReLU(inplace=True)\n",
       "    (19): Sequential(\n",
       "      (0): Conv2d(512, 82, kernel_size=(1, 1), stride=(1, 1), bias=False)\n",
       "      (1): Conv2d(82, 75, kernel_size=(3, 3), stride=(1, 1), padding=(1, 1), bias=False)\n",
       "      (2): Conv2d(75, 512, kernel_size=(1, 1), stride=(1, 1))\n",
       "    )\n",
       "    (20): ReLU(inplace=True)\n",
       "    (21): Sequential(\n",
       "      (0): Conv2d(512, 65, kernel_size=(1, 1), stride=(1, 1), bias=False)\n",
       "      (1): Conv2d(65, 57, kernel_size=(3, 3), stride=(1, 1), padding=(1, 1), bias=False)\n",
       "      (2): Conv2d(57, 512, kernel_size=(1, 1), stride=(1, 1))\n",
       "    )\n",
       "    (22): ReLU(inplace=True)\n",
       "    (23): MaxPool2d(kernel_size=2, stride=2, padding=0, dilation=1, ceil_mode=False)\n",
       "    (24): Sequential(\n",
       "      (0): Conv2d(512, 97, kernel_size=(1, 1), stride=(1, 1), bias=False)\n",
       "      (1): Conv2d(97, 83, kernel_size=(3, 3), stride=(1, 1), padding=(1, 1), bias=False)\n",
       "      (2): Conv2d(83, 512, kernel_size=(1, 1), stride=(1, 1))\n",
       "    )\n",
       "    (25): ReLU(inplace=True)\n",
       "    (26): Sequential(\n",
       "      (0): Conv2d(512, 110, kernel_size=(1, 1), stride=(1, 1), bias=False)\n",
       "      (1): Conv2d(110, 115, kernel_size=(3, 3), stride=(1, 1), padding=(1, 1), bias=False)\n",
       "      (2): Conv2d(115, 512, kernel_size=(1, 1), stride=(1, 1))\n",
       "    )\n",
       "    (27): ReLU(inplace=True)\n",
       "    (28): Sequential(\n",
       "      (0): Conv2d(512, 136, kernel_size=(1, 1), stride=(1, 1), bias=False)\n",
       "      (1): Conv2d(136, 135, kernel_size=(3, 3), stride=(1, 1), padding=(1, 1), bias=False)\n",
       "      (2): Conv2d(135, 512, kernel_size=(1, 1), stride=(1, 1))\n",
       "    )\n",
       "    (29): ReLU(inplace=True)\n",
       "    (30): MaxPool2d(kernel_size=2, stride=2, padding=0, dilation=1, ceil_mode=False)\n",
       "  )\n",
       "  (avgpool): AdaptiveAvgPool2d(output_size=(7, 7))\n",
       "  (classifier): Sequential(\n",
       "    (0): Linear(in_features=25088, out_features=4096, bias=True)\n",
       "    (1): ReLU(inplace=True)\n",
       "    (2): Dropout(p=0.5, inplace=False)\n",
       "    (3): Linear(in_features=4096, out_features=4096, bias=True)\n",
       "    (4): ReLU(inplace=True)\n",
       "    (5): Dropout(p=0.5, inplace=False)\n",
       "    (6): Linear(in_features=4096, out_features=10, bias=True)\n",
       "  )\n",
       ")"
      ]
     },
     "execution_count": 8,
     "metadata": {},
     "output_type": "execute_result"
    }
   ],
   "source": [
    "model"
   ]
  },
  {
   "cell_type": "code",
   "execution_count": 9,
   "metadata": {},
   "outputs": [],
   "source": [
    "#В качестве лоса возмем кросс-энтропию. Оптимизатор - Адам\n",
    "loss = torch.nn.CrossEntropyLoss()\n",
    "optimizer = torch.optim.Adam(model.parameters(), lr=3e-4)\n",
    "\n",
    "#добавим уменьшение лернинг рейта, если выходим на плато. Это решение будем принимать по валидационной выборке.\n",
    "lr_scheduler = torch.optim.lr_scheduler.ReduceLROnPlateau(optimizer, verbose=True, patience=7, factor=0.2)"
   ]
  },
  {
   "cell_type": "code",
   "execution_count": 10,
   "metadata": {},
   "outputs": [],
   "source": [
    "model = model.to(device)"
   ]
  },
  {
   "cell_type": "code",
   "execution_count": 11,
   "metadata": {},
   "outputs": [
    {
     "data": {
      "text/plain": [
       "VGG(\n",
       "  (features): Sequential(\n",
       "    (0): Conv2d(3, 64, kernel_size=(3, 3), stride=(1, 1), padding=(1, 1))\n",
       "    (1): ReLU(inplace=True)\n",
       "    (2): Sequential(\n",
       "      (0): Conv2d(64, 30, kernel_size=(1, 1), stride=(1, 1), bias=False)\n",
       "      (1): Conv2d(30, 25, kernel_size=(3, 3), stride=(1, 1), padding=(1, 1), bias=False)\n",
       "      (2): Conv2d(25, 64, kernel_size=(1, 1), stride=(1, 1))\n",
       "    )\n",
       "    (3): ReLU(inplace=True)\n",
       "    (4): MaxPool2d(kernel_size=2, stride=2, padding=0, dilation=1, ceil_mode=False)\n",
       "    (5): Sequential(\n",
       "      (0): Conv2d(64, 32, kernel_size=(1, 1), stride=(1, 1), bias=False)\n",
       "      (1): Conv2d(32, 35, kernel_size=(3, 3), stride=(1, 1), padding=(1, 1), bias=False)\n",
       "      (2): Conv2d(35, 128, kernel_size=(1, 1), stride=(1, 1))\n",
       "    )\n",
       "    (6): ReLU(inplace=True)\n",
       "    (7): Sequential(\n",
       "      (0): Conv2d(128, 36, kernel_size=(1, 1), stride=(1, 1), bias=False)\n",
       "      (1): Conv2d(36, 37, kernel_size=(3, 3), stride=(1, 1), padding=(1, 1), bias=False)\n",
       "      (2): Conv2d(37, 128, kernel_size=(1, 1), stride=(1, 1))\n",
       "    )\n",
       "    (8): ReLU(inplace=True)\n",
       "    (9): MaxPool2d(kernel_size=2, stride=2, padding=0, dilation=1, ceil_mode=False)\n",
       "    (10): Sequential(\n",
       "      (0): Conv2d(128, 52, kernel_size=(1, 1), stride=(1, 1), bias=False)\n",
       "      (1): Conv2d(52, 57, kernel_size=(3, 3), stride=(1, 1), padding=(1, 1), bias=False)\n",
       "      (2): Conv2d(57, 256, kernel_size=(1, 1), stride=(1, 1))\n",
       "    )\n",
       "    (11): ReLU(inplace=True)\n",
       "    (12): Sequential(\n",
       "      (0): Conv2d(256, 63, kernel_size=(1, 1), stride=(1, 1), bias=False)\n",
       "      (1): Conv2d(63, 60, kernel_size=(3, 3), stride=(1, 1), padding=(1, 1), bias=False)\n",
       "      (2): Conv2d(60, 256, kernel_size=(1, 1), stride=(1, 1))\n",
       "    )\n",
       "    (13): ReLU(inplace=True)\n",
       "    (14): Sequential(\n",
       "      (0): Conv2d(256, 53, kernel_size=(1, 1), stride=(1, 1), bias=False)\n",
       "      (1): Conv2d(53, 49, kernel_size=(3, 3), stride=(1, 1), padding=(1, 1), bias=False)\n",
       "      (2): Conv2d(49, 256, kernel_size=(1, 1), stride=(1, 1))\n",
       "    )\n",
       "    (15): ReLU(inplace=True)\n",
       "    (16): MaxPool2d(kernel_size=2, stride=2, padding=0, dilation=1, ceil_mode=False)\n",
       "    (17): Sequential(\n",
       "      (0): Conv2d(256, 76, kernel_size=(1, 1), stride=(1, 1), bias=False)\n",
       "      (1): Conv2d(76, 79, kernel_size=(3, 3), stride=(1, 1), padding=(1, 1), bias=False)\n",
       "      (2): Conv2d(79, 512, kernel_size=(1, 1), stride=(1, 1))\n",
       "    )\n",
       "    (18): ReLU(inplace=True)\n",
       "    (19): Sequential(\n",
       "      (0): Conv2d(512, 82, kernel_size=(1, 1), stride=(1, 1), bias=False)\n",
       "      (1): Conv2d(82, 75, kernel_size=(3, 3), stride=(1, 1), padding=(1, 1), bias=False)\n",
       "      (2): Conv2d(75, 512, kernel_size=(1, 1), stride=(1, 1))\n",
       "    )\n",
       "    (20): ReLU(inplace=True)\n",
       "    (21): Sequential(\n",
       "      (0): Conv2d(512, 65, kernel_size=(1, 1), stride=(1, 1), bias=False)\n",
       "      (1): Conv2d(65, 57, kernel_size=(3, 3), stride=(1, 1), padding=(1, 1), bias=False)\n",
       "      (2): Conv2d(57, 512, kernel_size=(1, 1), stride=(1, 1))\n",
       "    )\n",
       "    (22): ReLU(inplace=True)\n",
       "    (23): MaxPool2d(kernel_size=2, stride=2, padding=0, dilation=1, ceil_mode=False)\n",
       "    (24): Sequential(\n",
       "      (0): Conv2d(512, 97, kernel_size=(1, 1), stride=(1, 1), bias=False)\n",
       "      (1): Conv2d(97, 83, kernel_size=(3, 3), stride=(1, 1), padding=(1, 1), bias=False)\n",
       "      (2): Conv2d(83, 512, kernel_size=(1, 1), stride=(1, 1))\n",
       "    )\n",
       "    (25): ReLU(inplace=True)\n",
       "    (26): Sequential(\n",
       "      (0): Conv2d(512, 110, kernel_size=(1, 1), stride=(1, 1), bias=False)\n",
       "      (1): Conv2d(110, 115, kernel_size=(3, 3), stride=(1, 1), padding=(1, 1), bias=False)\n",
       "      (2): Conv2d(115, 512, kernel_size=(1, 1), stride=(1, 1))\n",
       "    )\n",
       "    (27): ReLU(inplace=True)\n",
       "    (28): Sequential(\n",
       "      (0): Conv2d(512, 136, kernel_size=(1, 1), stride=(1, 1), bias=False)\n",
       "      (1): Conv2d(136, 135, kernel_size=(3, 3), stride=(1, 1), padding=(1, 1), bias=False)\n",
       "      (2): Conv2d(135, 512, kernel_size=(1, 1), stride=(1, 1))\n",
       "    )\n",
       "    (29): ReLU(inplace=True)\n",
       "    (30): MaxPool2d(kernel_size=2, stride=2, padding=0, dilation=1, ceil_mode=False)\n",
       "  )\n",
       "  (avgpool): AdaptiveAvgPool2d(output_size=(7, 7))\n",
       "  (classifier): Sequential(\n",
       "    (0): Linear(in_features=25088, out_features=4096, bias=True)\n",
       "    (1): ReLU(inplace=True)\n",
       "    (2): Dropout(p=0.5, inplace=False)\n",
       "    (3): Linear(in_features=4096, out_features=4096, bias=True)\n",
       "    (4): ReLU(inplace=True)\n",
       "    (5): Dropout(p=0.5, inplace=False)\n",
       "    (6): Linear(in_features=4096, out_features=10, bias=True)\n",
       "  )\n",
       ")"
      ]
     },
     "execution_count": 11,
     "metadata": {},
     "output_type": "execute_result"
    }
   ],
   "source": [
    "model"
   ]
  },
  {
   "cell_type": "code",
   "execution_count": 12,
   "metadata": {},
   "outputs": [
    {
     "name": "stdout",
     "output_type": "stream",
     "text": [
      "Accuracy on test after compression: 0.4399\n"
     ]
    }
   ],
   "source": [
    "test_acc = 0.0\n",
    "len_test = 0.0\n",
    "\n",
    "for _, (inputs, targets) in enumerate(testloader):\n",
    "    inputs, targets = inputs.to(device), targets.to(device)\n",
    "    outputs = model(inputs)\n",
    "    accuracy_add = (outputs.argmax(dim=1) == targets).float().sum().data.cpu()\n",
    "    test_acc += accuracy_add\n",
    "    len_test += len(targets)\n",
    "    \n",
    "test_acc = test_acc / len_test\n",
    "test_acc = np.round(test_acc.numpy(), 4)\n",
    "print('Accuracy on test after compression:', test_acc)"
   ]
  },
  {
   "cell_type": "code",
   "execution_count": 13,
   "metadata": {},
   "outputs": [],
   "source": [
    "def train(epoch):\n",
    "    running_loss = 0.0\n",
    "    train_acc = 0.0\n",
    "    test_acc = 0.0\n",
    "    len_train = 0.0\n",
    "    len_test = 0.0\n",
    "    \n",
    "    loss_train = 0.0\n",
    "  \n",
    "    for batch_idx, (inputs, targets) in enumerate(trainloader):\n",
    "        inputs, targets = inputs.to(device), targets.to(device)\n",
    "        optimizer.zero_grad()\n",
    "        outputs = model(inputs)\n",
    "        loss_val = loss(outputs, targets)\n",
    "        loss_val.backward()\n",
    "        optimizer.step()\n",
    "        accuracy_add = (outputs.argmax(dim=1) == targets).float().sum().data.cpu()\n",
    "        train_acc += accuracy_add\n",
    "        len_train += len(targets)\n",
    "        loss_train += len(targets) * loss_val.item()\n",
    "        running_loss += loss_val.item()\n",
    "        \n",
    "    for _, (inputs, targets) in enumerate(testloader):\n",
    "        inputs, targets = inputs.to(device), targets.to(device)\n",
    "        outputs = model(inputs)\n",
    "        accuracy_add = (outputs.argmax(dim=1) == targets).float().sum().data.cpu()\n",
    "        test_acc += accuracy_add\n",
    "        len_test += len(targets)\n",
    "\n",
    "        \n",
    "    lr_scheduler.step(running_loss)\n",
    "\n",
    "    return train_acc / len_train, test_acc / len_test"
   ]
  },
  {
   "cell_type": "code",
   "execution_count": 14,
   "metadata": {},
   "outputs": [
    {
     "name": "stdout",
     "output_type": "stream",
     "text": [
      "Epoch: 1    acc_train: 0.8368    test_acc: 0.835    time: 62.80762481689453\n",
      "Epoch: 2    acc_train: 0.8681    test_acc: 0.8615    time: 53.815475940704346\n",
      "Epoch: 3    acc_train: 0.8883    test_acc: 0.863    time: 61.4827721118927\n",
      "Epoch: 4    acc_train: 0.8935    test_acc: 0.863    time: 59.38630390167236\n",
      "Epoch: 5    acc_train: 0.9005    test_acc: 0.8633    time: 55.1324200630188\n",
      "Epoch: 6    acc_train: 0.9051    test_acc: 0.8763    time: 55.30860137939453\n",
      "Epoch: 7    acc_train: 0.9101    test_acc: 0.8768    time: 58.689411878585815\n",
      "Epoch: 8    acc_train: 0.9122    test_acc: 0.869    time: 56.966726779937744\n",
      "Epoch: 9    acc_train: 0.9168    test_acc: 0.8761    time: 58.01656794548035\n",
      "Epoch: 10    acc_train: 0.9215    test_acc: 0.8753    time: 60.39380145072937\n",
      "Epoch: 11    acc_train: 0.9221    test_acc: 0.8658    time: 54.8749577999115\n",
      "Epoch: 12    acc_train: 0.9256    test_acc: 0.8569    time: 62.57968521118164\n",
      "Epoch: 13    acc_train: 0.9273    test_acc: 0.8821    time: 56.776803493499756\n",
      "Epoch: 14    acc_train: 0.9302    test_acc: 0.8651    time: 54.95820379257202\n",
      "Epoch: 15    acc_train: 0.9336    test_acc: 0.8789    time: 54.05579495429993\n"
     ]
    }
   ],
   "source": [
    "accuracy_history_test = []\n",
    "accuracy_history_train = []\n",
    "\n",
    "num_epoch = 15\n",
    "\n",
    "for epoch in range(0, num_epoch):\n",
    "    start_time = time()\n",
    "    train_acc, test_acc = train(epoch)\n",
    "    accuracy_history_test.append(test_acc)\n",
    "    accuracy_history_train.append(train_acc)\n",
    "    acc_train = np.round(train_acc.numpy(), 4)\n",
    "    acc_test = np.round(test_acc.numpy(), 4)\n",
    "    end_time = time()\n",
    "    total_time = end_time - start_time\n",
    "    print('Epoch:', epoch+1, '   acc_train:', acc_train, '   test_acc:', acc_test, '   time:', total_time)"
   ]
  },
  {
   "cell_type": "code",
   "execution_count": 15,
   "metadata": {},
   "outputs": [
    {
     "name": "stderr",
     "output_type": "stream",
     "text": [
      "/usr/local/lib/python3.7/dist-packages/matplotlib/cbook/deprecation.py:107: MatplotlibDeprecationWarning: Passing one of 'on', 'true', 'off', 'false' as a boolean is deprecated; use an actual boolean (True/False) instead.\n",
      "  warnings.warn(message, mplDeprecation, stacklevel=1)\n"
     ]
    },
    {
     "data": {
      "text/plain": [
       "Text(0,0.5,'Accuracy')"
      ]
     },
     "execution_count": 15,
     "metadata": {},
     "output_type": "execute_result"
    },
    {
     "data": {
      "image/png": "[encoded data removed]",
      "text/plain": [
       "<Figure size 1008x360 with 1 Axes>"
      ]
     },
     "metadata": {
      "needs_background": "light"
     },
     "output_type": "display_data"
    }
   ],
   "source": [
    "import matplotlib.pyplot as plt\n",
    "\n",
    "fig, ax = plt.subplots(figsize=[14, 5])\n",
    "plt.plot(accuracy_history_test, label='accucacy on test set')\n",
    "plt.plot(accuracy_history_train, label='accucacy on train set')\n",
    "plt.legend(loc='best')\n",
    "plt.title('Accuracy on train and test set on each epoch')\n",
    "plt.grid('True')\n",
    "plt.xlabel('Epoch')\n",
    "plt.ylabel('Accuracy')"
   ]
  },
  {
   "cell_type": "code",
   "execution_count": 16,
   "metadata": {},
   "outputs": [],
   "source": [
    "model = model.eval()"
   ]
  },
  {
   "cell_type": "code",
   "execution_count": 17,
   "metadata": {},
   "outputs": [],
   "source": [
    "torch.save(model, 'CIFAR10_vgg16_finetuned.pth')"
   ]
  },
  {
   "cell_type": "code",
   "execution_count": 18,
   "metadata": {},
   "outputs": [],
   "source": [
    "def count_parameters(model): \n",
    "    return sum(p.numel() for p in model.parameters() if p.requires_grad)"
   ]
  },
  {
   "cell_type": "code",
   "execution_count": 19,
   "metadata": {},
   "outputs": [
    {
     "name": "stdout",
     "output_type": "stream",
     "text": [
      "Num params in model after compression: 120847049\n"
     ]
    }
   ],
   "source": [
    "print('Num params in model after compression:', count_parameters(model))"
   ]
  },
  {
   "cell_type": "code",
   "execution_count": 20,
   "metadata": {},
   "outputs": [],
   "source": [
    "np.save(\"exps/test_vgg16.npy\", accuracy_history_test)\n",
    "np.save(\"exps/train_vgg16.npy\", accuracy_history_train)"
   ]
  },
  {
   "cell_type": "code",
   "execution_count": null,
   "metadata": {},
   "outputs": [],
   "source": []
  }
 ],
 "metadata": {
  "kernelspec": {
   "display_name": "Python 3",
   "language": "python",
   "name": "python3"
  },
  "language_info": {
   "codemirror_mode": {
    "name": "ipython",
    "version": 3
   },
   "file_extension": ".py",
   "mimetype": "text/x-python",
   "name": "python",
   "nbconvert_exporter": "python",
   "pygments_lexer": "ipython3",
   "version": "3.7.9"
  }
 },
 "nbformat": 4,
 "nbformat_minor": 4
}
